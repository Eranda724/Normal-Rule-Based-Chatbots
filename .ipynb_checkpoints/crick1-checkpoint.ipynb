{
 "cells": [
  {
   "cell_type": "code",
   "execution_count": null,
   "id": "530fe0e7-73b3-4348-87e9-5a7b645be951",
   "metadata": {},
   "outputs": [],
   "source": [
    "import pandas as pd\n",
    "import json\n",
    "import math\n",
    "\n",
    "# Load dataset (Replace this with your actual dataset file path)\n",
    "df = pd.read_csv(\"Mental_Health_FAQ.csv\")\n",
    "df = pd.DataFrame(data)\n",
    "\n",
    "# Calculate Batting Metrics\n",
    "df[\"Strike Rate\"] = (df[\"Total Runs\"] / df[\"Balls Faced\"]) * 100\n",
    "df[\"Batting Average\"] = df[\"Total Runs\"] / df[\"Innings Played\"]\n",
    "\n",
    "# Calculate Bowling Metrics\n",
    "df[\"Bowling Strike Rate\"] = df.apply(lambda x: (x[\"Overs Bowled\"] * 6 / x[\"Wickets\"]) if x[\"Wickets\"] > 0 else float('inf'), axis=1)\n",
    "df[\"Economy Rate\"] = df.apply(lambda x: (x[\"Runs Conceded\"] / x[\"Overs Bowled\"]) if x[\"Overs Bowled\"] > 0 else float('inf'), axis=1)\n",
    "\n",
    "# Compute Player Points (Formula Assumed)\n",
    "df[\"Player Points\"] = df[\"Total Runs\"] * 0.5 + df[\"Wickets\"] * 10 - df[\"Economy Rate\"] * 2\n",
    "\n",
    "# Compute Player Value (Rounded to nearest 50,000)\n",
    "df[\"Player Value\"] = df[\"Player Points\"].apply(lambda x: round(x / 50000) * 50000)\n",
    "\n",
    "# Find Best Players in Each Category\n",
    "best_batsman = df[df[\"Category\"] == \"Batsman\"].nlargest(1, \"Player Points\")\n",
    "best_bowler = df[df[\"Category\"] == \"Bowler\"].nlargest(1, \"Player Points\")\n",
    "best_all_rounder = df[df[\"Category\"] == \"All-Rounder\"].nlargest(1, \"Player Points\")\n",
    "\n",
    "best_players = pd.concat([best_batsman, best_bowler, best_all_rounder])\n",
    "\n",
    "# Save as JSON\n",
    "best_players_json = best_players.to_json(orient=\"records\", indent=4)\n",
    "with open(\"best_players.json\", \"w\") as f:\n",
    "    f.write(best_players_json)\n",
    "\n",
    "print(\"Best players saved to best_players.json\")\n"
   ]
  }
 ],
 "metadata": {
  "kernelspec": {
   "display_name": "Python 3 (ipykernel)",
   "language": "python",
   "name": "python3"
  },
  "language_info": {
   "codemirror_mode": {
    "name": "ipython",
    "version": 3
   },
   "file_extension": ".py",
   "mimetype": "text/x-python",
   "name": "python",
   "nbconvert_exporter": "python",
   "pygments_lexer": "ipython3",
   "version": "3.9.20"
  }
 },
 "nbformat": 4,
 "nbformat_minor": 5
}
