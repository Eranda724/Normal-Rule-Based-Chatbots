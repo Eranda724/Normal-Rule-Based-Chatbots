{
 "cells": [
  {
   "cell_type": "code",
   "execution_count": 1,
   "id": "358a39b2-82a1-4390-aad9-c797b5e2cec0",
   "metadata": {},
   "outputs": [],
   "source": [
    "import numpy as np\n",
    "import pandas as pd\n",
    "from sklearn.feature_extraction.text import TfidfVectorizer\n",
    "from sklearn.metrics.pairwise import cosine_similarity\n",
    "import re\n",
    "from sklearn.feature_extraction.text import ENGLISH_STOP_WORDS"
   ]
  },
  {
   "cell_type": "code",
   "execution_count": 2,
   "id": "e554ec6e-abdc-4c27-94a6-14be1ad63df5",
   "metadata": {},
   "outputs": [],
   "source": [
    "def clean_text(text):\n",
    "    text = re.sub(r'[^\\w\\s]', '', text)  # Remove punctuation\n",
    "    text = re.sub(r'\\d+', '', text)  # Remove digits\n",
    "    text = \" \".join([word for word in text.split() if word.lower() not in ENGLISH_STOP_WORDS])\n",
    "    return text.lower()"
   ]
  },
  {
   "cell_type": "code",
   "execution_count": 3,
   "id": "d7aae306",
   "metadata": {},
   "outputs": [],
   "source": [
    "df = pd.read_csv(\"Mental_Health_FAQ.csv\")\n",
    "df.drop(\"Question_ID\", axis=1, inplace=True)\n",
    "df[\"Questions\"] = df[\"Questions\"].apply(clean_text)\n",
    "df[\"Answers\"] = df[\"Answers\"].apply(clean_text)"
   ]
  },
  {
   "cell_type": "code",
   "execution_count": 4,
   "id": "d4191359-1a35-407d-9fea-663d6b49e4ab",
   "metadata": {},
   "outputs": [],
   "source": [
    "vec = TfidfVectorizer()\n",
    "df_vec = vec.fit_transform(df[\"Questions\"])"
   ]
  },
  {
   "cell_type": "code",
   "execution_count": 5,
   "id": "6bd5605b-72a4-44d7-994c-1cab4cc7c4d1",
   "metadata": {},
   "outputs": [
    {
     "name": "stdout",
     "output_type": "stream",
     "text": [
      "You:  Where can I go to find a support group?\n"
     ]
    },
    {
     "name": "stdout",
     "output_type": "stream",
     "text": [
      "Chatbot:  people peer support helpful tool aid recovery variety organizations offer support groups consumers family members friends support groups peerled led mental health professional\n"
     ]
    },
    {
     "name": "stdout",
     "output_type": "stream",
     "text": [
      "You:  clinical trials\n"
     ]
    },
    {
     "name": "stdout",
     "output_type": "stream",
     "text": [
      "Chatbot:  consumers mental health services consider participating research study experienced improvement despite having tried variety medications treatments research studies known clinical trials involve use new medications new treatment approaches safety effectiveness tested support innovation field consumers cautioned risks associated clinical trials make sure youre aware enroll\n"
     ]
    }
   ],
   "source": [
    "def get_response(user_query):\n",
    "    user_query = clean_text(user_query)\n",
    "    input_qvec = vec.transform([user_query])\n",
    "    simila = cosine_similarity(input_qvec, df_vec)\n",
    "    \n",
    "    # Define a similarity threshold\n",
    "    similarity_threshold = 0.2\n",
    "    if max(simila[0]) < similarity_threshold:\n",
    "        return \"I'm sorry, I didn't understand that. Can you rephrase?\"\n",
    "    else:\n",
    "        close_answr = np.argmax(simila, axis=1)\n",
    "        return df[\"Answers\"].iloc[close_answr].values[0]"
   ]
  },
  {
   "cell_type": "code",
   "execution_count": null,
   "id": "aba9b5cd-def4-4dae-8a19-e3cd01c9d274",
   "metadata": {},
   "outputs": [],
   "source": []
  }
 ],
 "metadata": {
  "kernelspec": {
   "display_name": "Python (GPU)",
   "language": "python",
   "name": "test_env_gpu"
  },
  "language_info": {
   "codemirror_mode": {
    "name": "ipython",
    "version": 3
   },
   "file_extension": ".py",
   "mimetype": "text/x-python",
   "name": "python",
   "nbconvert_exporter": "python",
   "pygments_lexer": "ipython3",
   "version": "3.9.20"
  }
 },
 "nbformat": 4,
 "nbformat_minor": 5
}
